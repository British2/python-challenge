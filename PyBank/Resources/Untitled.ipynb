{
 "cells": [
  {
   "cell_type": "code",
   "execution_count": 50,
   "id": "b7e94602",
   "metadata": {},
   "outputs": [
    {
     "name": "stdout",
     "output_type": "stream",
     "text": [
      "Financial Anaylsis\n",
      "-----------------------\n",
      "Total Months: 86\n",
      "Total Profit / Loss: $38382578\n",
      "Average Change: $-2315.12\n",
      "Greatest Increase in Profits: Feb-2012 $1926159\n",
      "Greatest Decrease in Profits: Sep-2013 $-2196167\n"
     ]
    }
   ],
   "source": [
    "import os\n",
    "import csv\n",
    "\n",
    "budget_data = os.path.join(\"budget_data.csv\")\n",
    "\n",
    "###List of Data\n",
    "dates = []\n",
    "profit_loss = []\n",
    "\n",
    "### Open cvs file\n",
    "with open(budget_data) as csvfile:\n",
    "        csvreader = csv.reader(csvfile, delimiter=\",\")\n",
    "        csvheader = next(csvreader) \n",
    "        for row in csvreader:\n",
    "            ### add dates\n",
    "            dates.append(row[0])\n",
    "\n",
    "            ### add profit_loss\n",
    "            profit_loss.append(int(row[1]))\n",
    "\n",
    "number_of_months = len(dates)\n",
    "\n",
    "total_profit_loss = sum(profit_loss) \n",
    "\n",
    "\n",
    "\n",
    "changes = []\n",
    "\n",
    "for i in range(1,len(profit_loss)):\n",
    "    changes.append(int(profit_loss[i] - profit_loss[i - 1]))\n",
    "average_change = sum(changes) / len(changes)\n",
    "\n",
    "minVal = min(changes)\n",
    "\n",
    "maxVal = max(changes)\n",
    "\n",
    "minindex = changes.index(minVal)\n",
    "minmonth = dates[minindex+1]\n",
    "\n",
    "maxindex = changes.index(maxVal)\n",
    "maxmonth = dates[maxindex+1]\n",
    "\n",
    "\n",
    "print(f\"Financial Anaylsis\")\n",
    "print(f\"-----------------------\")\n",
    "print(f\"Total Months: {number_of_months}\")\n",
    "print(f\"Total Profit / Loss: ${total_profit_loss}\")\n",
    "print(f\"Average Change: ${round(average_change,2)}\")\n",
    "print(f\"Greatest Increase in Profits: {maxmonth} ${maxVal}\")\n",
    "print(f\"Greatest Decrease in Profits: {minmonth} ${minVal}\")   \n",
    "\n",
    "with open(\"analysis.txt\",\"w\") as txt_file:\n",
    "    txt_file.write(f\"Financial Anaylsis\\n-----------------------\\nTotal Months: {number_of_months}\\nTotal Profit / Loss: ${total_profit_loss}\\nAverage Change: ${round(average_change,2)}\\nGreatest Increase in Profits: {maxmonth} ${maxVal}\\nGreatest Decrease in Profits: {minmonth} ${minVal}\")"
   ]
  },
  {
   "cell_type": "code",
   "execution_count": 31,
   "id": "069725cc",
   "metadata": {},
   "outputs": [
    {
     "data": {
      "text/plain": [
       "-1196225"
      ]
     },
     "execution_count": 31,
     "metadata": {},
     "output_type": "execute_result"
    }
   ],
   "source": [
    "minVal\n"
   ]
  },
  {
   "cell_type": "code",
   "execution_count": 36,
   "id": "f015e9f7",
   "metadata": {},
   "outputs": [
    {
     "data": {
      "text/plain": [
       "43"
      ]
     },
     "execution_count": 36,
     "metadata": {},
     "output_type": "execute_result"
    }
   ],
   "source": [
    "\n",
    "minindex"
   ]
  },
  {
   "cell_type": "code",
   "execution_count": 40,
   "id": "4c5286b1",
   "metadata": {},
   "outputs": [
    {
     "data": {
      "text/plain": [
       "'Sep-2013'"
      ]
     },
     "execution_count": 40,
     "metadata": {},
     "output_type": "execute_result"
    }
   ],
   "source": [
    "minmonth = dates[minindex+1]\n",
    "minmonth"
   ]
  },
  {
   "cell_type": "code",
   "execution_count": 44,
   "id": "eae8fd19",
   "metadata": {},
   "outputs": [
    {
     "data": {
      "text/plain": [
       "85"
      ]
     },
     "execution_count": 44,
     "metadata": {},
     "output_type": "execute_result"
    }
   ],
   "source": [
    "len(changes)"
   ]
  },
  {
   "cell_type": "code",
   "execution_count": 33,
   "id": "c187395b",
   "metadata": {},
   "outputs": [
    {
     "data": {
      "text/plain": [
       "86"
      ]
     },
     "execution_count": 33,
     "metadata": {},
     "output_type": "execute_result"
    }
   ],
   "source": [
    "len(dates)"
   ]
  },
  {
   "cell_type": "code",
   "execution_count": null,
   "id": "8e68d632",
   "metadata": {},
   "outputs": [],
   "source": []
  }
 ],
 "metadata": {
  "kernelspec": {
   "display_name": "Python 3",
   "language": "python",
   "name": "python3"
  },
  "language_info": {
   "codemirror_mode": {
    "name": "ipython",
    "version": 3
   },
   "file_extension": ".py",
   "mimetype": "text/x-python",
   "name": "python",
   "nbconvert_exporter": "python",
   "pygments_lexer": "ipython3",
   "version": "3.8.8"
  }
 },
 "nbformat": 4,
 "nbformat_minor": 5
}
